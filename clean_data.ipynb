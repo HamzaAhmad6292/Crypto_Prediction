{
 "cells": [
  {
   "cell_type": "code",
   "execution_count": 1,
   "metadata": {},
   "outputs": [],
   "source": [
    "import pandas as pd\n",
    "from vaderSentiment.vaderSentiment import SentimentIntensityAnalyzer\n",
    "from tqdm import tnrange, tqdm_notebook, tqdm\n",
    "\n",
    "CURRENCY = \"bitcoin\"\n",
    "CURRENCY_SYMBOL = \"BTC\"\n",
    "tweets_clean_file = \"sample_testing_data.csv\"\n",
    "path = 'data/twitter/%s'%(CURRENCY_SYMBOL) "
   ]
  },
  {
   "cell_type": "code",
   "execution_count": null,
   "metadata": {},
   "outputs": [],
   "source": [
    "df_clean = pd.read_csv(tweets_clean_file,low_memory=False)\n",
    "print(df_clean.shape)\n",
    "df_clean.head(5)"
   ]
  },
  {
   "cell_type": "code",
   "execution_count": 3,
   "metadata": {},
   "outputs": [],
   "source": [
    "df_clean = df_clean.sort_values(by='ID') "
   ]
  },
  {
   "cell_type": "code",
   "execution_count": null,
   "metadata": {},
   "outputs": [],
   "source": [
    "analyzer = SentimentIntensityAnalyzer()\n",
    "compound = []\n",
    "for i,s in enumerate(tqdm(df_clean['Text'])):\n",
    "    vs = analyzer.polarity_scores(s)\n",
    "    compound.append(vs[\"compound\"])\n",
    "df_clean[\"compound\"] = compound\n",
    "df_clean.head(2)"
   ]
  },
  {
   "cell_type": "code",
   "execution_count": null,
   "metadata": {},
   "outputs": [],
   "source": [
    "scores = []\n",
    "for i, s in tqdm(df_clean.iterrows(), total=df_clean.shape[0]):\n",
    "    scores.append(s[\"compound\"] * ((int(s[\"UserFollowerCount\"]))) * ((int(s[\"Likes\"])+1)) *((int(s[\"RetweetCount\"])+1)))\n",
    "df_clean[\"score\"] = scores\n",
    "df_clean.head(2)"
   ]
  },
  {
   "cell_type": "code",
   "execution_count": 7,
   "metadata": {},
   "outputs": [],
   "source": [
    "from datetime import datetime"
   ]
  },
  {
   "cell_type": "code",
   "execution_count": null,
   "metadata": {},
   "outputs": [],
   "source": [
    "n = 20000  \n",
    "chunks_df = [df_clean[i:i+n] for i in range(0,df_clean.shape[0],n)]\n",
    "\n",
    "sep_char = '~'\n",
    "for chunk_df in chunks_df:\n",
    "    chunk_min = chunk_df['ID'].min()\n",
    "    chunk_max = chunk_df['ID'].max()\n",
    "    date_from = (datetime.strptime(chunk_df.iloc[0]['CreatedAt'], '%a %b %d %X %z %Y')).strftime('%Y-%m-%d %H-%M-%S')\n",
    "    date_to = (datetime.strptime(chunk_df.iloc[-1]['CreatedAt'], '%a %b %d %X %z %Y')).strftime('%Y-%m-%d %H-%M-%S')\n",
    "    print(date_from, date_to)\n",
    "\n",
    "    chunk_df.to_csv(f\"{path}/{date_from}{sep_char}{date_to}.csv\", header=True, index=False)\n",
    "    \n"
   ]
  },
  {
   "cell_type": "markdown",
   "metadata": {},
   "source": []
  },
  {
   "cell_type": "code",
   "execution_count": 9,
   "metadata": {},
   "outputs": [],
   "source": [
    "import glob\n",
    "import numpy as np\n",
    "\n",
    "ENVS = ['CRYPTO', 'LINE_COUNT', 'MOST_RECENT_FILE', 'MOST_RECENT_ID'] # Stored in var.csv\n",
    "\n",
    "def get_var(key, crypto):\n",
    "    df_var = pd.read_csv(\"data/twitter/var.csv\", sep=',', dtype={'LINE_COUNT': np.int32})\n",
    "    return df_var[key].loc[df_var['CRYPTO'] == crypto].values[0]\n",
    "\n",
    "def update_var(key, value, crypto):\n",
    "    df_var = pd.read_csv(\"data/twitter/var.csv\", sep=',', dtype={'LINE_COUNT': np.int32})\n",
    "    df_var[key].loc[df_var['CRYPTO'] == crypto] = str(value)\n",
    "    df_var.to_csv(\"data/twitter/var.csv\", index=False)\n",
    "    \n",
    "def add_new_crypto(crypto):\n",
    "    df_var = pd.read_csv(\"data/twitter/var.csv\", sep=',', dtype={'LINE_COUNT': np.int32})\n",
    "    if df_var[ENVS[0]].loc[df_var['CRYPTO'] == crypto].empty:\n",
    "        new_line = pd.DataFrame([[crypto,-1,\"\",0]], columns=ENVS)\n",
    "        df_var = df_var.append(new_line)\n",
    "        df_var.to_csv(\"data/twitter/var.csv\", index=False)"
   ]
  }
 ],
 "metadata": {
  "kernelspec": {
   "display_name": "Python 3",
   "language": "python",
   "name": "python3"
  },
  "language_info": {
   "codemirror_mode": {
    "name": "ipython",
    "version": 3
   },
   "file_extension": ".py",
   "mimetype": "text/x-python",
   "name": "python",
   "nbconvert_exporter": "python",
   "pygments_lexer": "ipython3",
   "version": "3.7.4"
  }
 },
 "nbformat": 4,
 "nbformat_minor": 2
}
