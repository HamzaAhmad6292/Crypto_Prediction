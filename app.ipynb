{
 "cells": [
  {
   "cell_type": "code",
   "execution_count": 1,
   "metadata": {},
   "outputs": [
    {
     "name": "stdout",
     "output_type": "stream",
     "text": [
      "                                             Parameter  \\\n",
      "0                                                   id   \n",
      "1                                               symbol   \n",
      "2                                                 name   \n",
      "3                                             web_slug   \n",
      "4                                    asset_platform_id   \n",
      "..                                                 ...   \n",
      "190           developer_data_pull_request_contributors   \n",
      "191    developer_data_code_additions_deletions_4_weeks   \n",
      "192                developer_data_commit_count_4_weeks   \n",
      "193  developer_data_last_4_weeks_commit_activity_se...   \n",
      "194                                       last_updated   \n",
      "\n",
      "                                Value  \n",
      "0                            fetch-ai  \n",
      "1                                 fet  \n",
      "2                            Fetch.ai  \n",
      "3                            fetch-ai  \n",
      "4                            ethereum  \n",
      "..                                ...  \n",
      "190                                26  \n",
      "191  {'additions': 0, 'deletions': 0}  \n",
      "192                                 0  \n",
      "193                                []  \n",
      "194          2024-03-10T12:46:18.356Z  \n",
      "\n",
      "[195 rows x 2 columns]\n"
     ]
    }
   ],
   "source": [
    "import requests\n",
    "import pandas as pd\n",
    "token_address=\"0xaea46a60368a7bd060eec7df8cba43b7ef41ad85\"\n",
    "\n",
    "url = f\"https://api.coingecko.com/api/v3/coins/id/contract/{token_address}\"\n",
    "headers = {\"x-cg-api-key\": \"CG-bLxEojXKVTE2U7doP5uu5fxk\"}\n",
    "\n",
    "response = requests.get(url, headers=headers)\n",
    "data=response.json()\n",
    "\n",
    "\n",
    "\n",
    "\n",
    "parameters = {}\n",
    "for key, value in data.items():\n",
    "        if isinstance(value, (int, float, str, bool)):\n",
    "            parameters[key] = [value]\n",
    "        elif isinstance(value, dict):   \n",
    "            for k, v in value.items():\n",
    "                parameters[f\"{key}_{k}\"] = [v]\n",
    "    \n",
    "df = pd.DataFrame(parameters)\n",
    "    \n",
    "df = df.T.reset_index()\n",
    "df.columns = ['Parameter', 'Value']\n",
    "    \n",
    "print(df)"
   ]
  }
 ],
 "metadata": {
  "kernelspec": {
   "display_name": "Python 3",
   "language": "python",
   "name": "python3"
  },
  "language_info": {
   "codemirror_mode": {
    "name": "ipython",
    "version": 3
   },
   "file_extension": ".py",
   "mimetype": "text/x-python",
   "name": "python",
   "nbconvert_exporter": "python",
   "pygments_lexer": "ipython3",
   "version": "3.10.12"
  }
 },
 "nbformat": 4,
 "nbformat_minor": 2
}
