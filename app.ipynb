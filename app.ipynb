{
  "cells": [
    {
      "cell_type": "code",
      "execution_count": 30,
      "metadata": {
        "id": "4UNqmhupcWdQ"
      },
      "outputs": [],
      "source": [
        "import requests\n",
        "import pandas as pd\n",
        "\n",
        "\n",
        "\n",
        "\n",
        "headers = {\"x-cg-api-key\": \"CG-bLxEojXKVTE2U7doP5uu5fxk\"}\n",
        "\n",
        "\n",
        "def flatten_dict(d, parent_key='', sep='_'):\n",
        "    \"\"\"\n",
        "    Flatten a dictionary with nested dictionaries.\n",
        "    \"\"\"\n",
        "    items = []\n",
        "    for k, v in d.items():\n",
        "        new_key = parent_key + sep + k if parent_key else k\n",
        "        if isinstance(v, dict):\n",
        "            items.extend(flatten_dict(v, new_key, sep=sep).items())\n",
        "        else:\n",
        "            items.append((new_key, v))\n",
        "    return dict(items)\n",
        "\n",
        "def get_coin_data(contractAddress):\n",
        "    url = f\"https://api.coingecko.com/api/v3/coins/id/contract/{contractAddress}\"\n",
        "    response = requests.get(url, headers=headers)\n",
        "    data = response.json()\n",
        "\n",
        "    # Flatten all nested dictionaries\n",
        "    flattened_data = flatten_dict(data)\n",
        "\n",
        "    # Convert to DataFrame\n",
        "    data_df = pd.DataFrame([flattened_data])\n",
        "    return data_df"
      ]
    },
    {
      "cell_type": "code",
      "execution_count": null,
      "metadata": {
        "id": "kQ54Z5kDWEOE"
      },
      "outputs": [],
      "source": [
        "import seaborn as sns\n",
        "import matplotlib.pyplot as plt\n",
        "\n",
        "\n",
        "\n",
        "coin_contract_addresses = {\n",
        "    \"Fet\": \"0xaea46A60368A7bD060eec7DF8CBa43b7EF41Ad85\",\n",
        "    \"Ocean\": \"0xDCe07662CA8EbC241316a15B611c89711414Dd1a\",\n",
        "    \"Paal\": \"0x1234567890abcdef1234567890abcdef12345678\",\n",
        "    \"Rndr\": \"0x1234567890abcdef1234567890abcdef12345678\",\n",
        "    \"Opti\": \"0x1234567890abcdef1234567890abcdef12345678\",\n",
        "    \"Jkl\": \"0x1234567890abcdef1234567890abcdef12345678\",\n",
        "    \"Near\": \"0x1234567890abcdef1234567890abcdef12345678\",\n",
        "    \"Agix\": \"0x1234567890abcdef1234567890abcdef12345678\",\n",
        "    \"0x0\": \"0x1234567890abcdef1234567890abcdef12345678\",\n",
        "    \"Orai\": \"0x1234567890abcdef1234567890abcdef12345678\",\n",
        "    \"Zig\": \"0x1234567890abcdef1234567890abcdef12345678\",\n",
        "    \"Glq\": \"0x1234567890abcdef1234567890abcdef12345678\"\n",
        "}\n",
        "\n",
        "ai_coins = [\n",
        "    'Fet', 'Ocean', 'Paal-ai', 'Rndr', 'Opti', 'Jkl', 'Near', 'Agix', '0x0', 'Orai', 'Zig', 'Glq'\n",
        "]\n",
        "\n",
        "\n",
        "\n",
        "\n",
        "\n",
        "\n",
        "\n",
        "def get_AI_Coins_Data():\n",
        "    df = pd.DataFrame()  # Initialize an empty DataFrame\n",
        "    for coin in ai_coins:\n",
        "        coin_data = get_coin_data(coin)  # Get data for the current coin\n",
        "        df = df.append(coin_data, ignore_index=True)  # Append the data to the DataFrame\n",
        "    return df\n",
        "\n",
        "\n",
        "\n"
      ]
    },
    {
      "cell_type": "code",
      "execution_count": null,
      "metadata": {
        "id": "ZBolxVRLHFv4"
      },
      "outputs": [],
      "source": []
    },
    {
      "cell_type": "code",
      "execution_count": 31,
      "metadata": {
        "colab": {
          "base_uri": "https://localhost:8080/"
        },
        "id": "sTn6Ag3NZUxy",
        "outputId": "6a2574bc-6a7b-48ab-814b-941c751c1e74"
      },
      "outputs": [
        {
          "name": "stdout",
          "output_type": "stream",
          "text": [
            "         id symbol      name  web_slug asset_platform_id  \\\n",
            "0  fetch-ai    fet  Fetch.ai  fetch-ai          ethereum   \n",
            "\n",
            "                           platforms_ethereum  \\\n",
            "0  0xaea46a60368a7bd060eec7df8cba43b7ef41ad85   \n",
            "\n",
            "                platforms_binance-smart-chain  \\\n",
            "0  0x031b41e504677879370e9dbcf937283a8691fa7f   \n",
            "\n",
            "                                   platforms_osmosis  \\\n",
            "0  ibc/5D1F516200EE8C6B2354102143B78A2DEDA25EDE77...   \n",
            "\n",
            "   detail_platforms_ethereum_decimal_place  \\\n",
            "0                                       18   \n",
            "\n",
            "   detail_platforms_ethereum_contract_address  ...  \\\n",
            "0  0xaea46a60368a7bd060eec7df8cba43b7ef41ad85  ...   \n",
            "\n",
            "   developer_data_closed_issues developer_data_pull_requests_merged  \\\n",
            "0                            27                                 233   \n",
            "\n",
            "  developer_data_pull_request_contributors  \\\n",
            "0                                       26   \n",
            "\n",
            "  developer_data_code_additions_deletions_4_weeks_additions  \\\n",
            "0                                                  0          \n",
            "\n",
            "   developer_data_code_additions_deletions_4_weeks_deletions  \\\n",
            "0                                                  0           \n",
            "\n",
            "  developer_data_commit_count_4_weeks  \\\n",
            "0                                   0   \n",
            "\n",
            "  developer_data_last_4_weeks_commit_activity_series  status_updates  \\\n",
            "0                                                 []              []   \n",
            "\n",
            "               last_updated                                            tickers  \n",
            "0  2024-03-13T18:02:51.335Z  [{'base': 'FET', 'target': 'USDT', 'market': {...  \n",
            "\n",
            "[1 rows x 1609 columns]\n"
          ]
        }
      ],
      "source": [
        "\n",
        "token_address=\"0xaea46a60368a7bd060eec7df8cba43b7ef41ad85\"\n",
        "\n",
        "print(get_coin_data(token_address))"
      ]
    },
    {
      "cell_type": "code",
      "execution_count": 25,
      "metadata": {
        "id": "IjOsSImYZV6z"
      },
      "outputs": [],
      "source": [
        "# coin prices for some days\n",
        "\n",
        "\n",
        "\n",
        "\n",
        "import pandas as pd\n",
        "\n",
        "\n",
        "\n",
        "def get_coin_prices_forDays_tokenAddress(contractAddress,currency=\"usd\",days=30):\n",
        "\n",
        " url= f\"https://api.coingecko.com/api/v3/coins/id/contract/{contractAddress}/market_chart\"\n",
        " params = {\n",
        "        'vs_currency': currency,\n",
        "        'days': days\n",
        "    }\n",
        " response=requests.get(url,headers=headers,params=params)\n",
        " print(pd.DataFrame(response.json()))\n",
        " return response.json()"
      ]
    },
    {
      "cell_type": "code",
      "execution_count": 22,
      "metadata": {
        "colab": {
          "base_uri": "https://localhost:8080/"
        },
        "id": "19rRMzeIuQAI",
        "outputId": "bd771771-682e-4444-af2e-0cd037b04790"
      },
      "outputs": [
        {
          "name": "stdout",
          "output_type": "stream",
          "text": [
            "{'error': 'Missing parameter vs_currency'}\n"
          ]
        }
      ],
      "source": []
    }
  ],
  "metadata": {
    "colab": {
      "provenance": []
    },
    "kernelspec": {
      "display_name": "Python 3",
      "name": "python3"
    },
    "language_info": {
      "name": "python",
      "version": "3.10.12"
    }
  },
  "nbformat": 4,
  "nbformat_minor": 0
}
