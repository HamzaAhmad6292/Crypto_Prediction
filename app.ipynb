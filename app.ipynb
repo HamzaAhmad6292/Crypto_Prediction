{
  "cells": [
    {
      "cell_type": "code",
      "execution_count": 1,
      "metadata": {
        "id": "4UNqmhupcWdQ"
      },
      "outputs": [],
      "source": [
        "import requests\n",
        "import pandas as pd\n",
        "\n",
        "\n",
        "\n",
        "\n",
        "headers = {\"x-cg-api-key\": \"CG-bLxEojXKVTE2U7doP5uu5fxk\"}\n",
        "\n",
        "\n",
        "def flatten_dict(d, parent_key='', sep='_'):\n",
        "    \"\"\"\n",
        "    Flatten a dictionary with nested dictionaries.\n",
        "    \"\"\"\n",
        "    items = []\n",
        "    for k, v in d.items():\n",
        "        new_key = parent_key + sep + k if parent_key else k\n",
        "        if isinstance(v, dict):\n",
        "            items.extend(flatten_dict(v, new_key, sep=sep).items())\n",
        "        else:\n",
        "            items.append((new_key, v))\n",
        "    return dict(items)\n",
        "\n",
        "def get_coin_data(contractAddress):\n",
        "    url = f\"https://api.coingecko.com/api/v3/coins/id/contract/{contractAddress}\"\n",
        "    response = requests.get(url, headers=headers)\n",
        "    data = response.json()\n",
        "\n",
        "    # Flatten all nested dictionaries\n",
        "    flattened_data = flatten_dict(data)\n",
        "\n",
        "    # Convert to DataFrame\n",
        "    data_df = pd.DataFrame([flattened_data])\n",
        "    return data_df"
      ]
    },
    {
      "cell_type": "code",
      "execution_count": 4,
      "metadata": {
        "id": "kQ54Z5kDWEOE"
      },
      "outputs": [],
      "source": [
        "import matplotlib.pyplot as plt\n",
        "\n",
        "\n",
        "\n",
        "coin_contract_addresses = {\n",
        "    \"Fet\": \"0xaea46A60368A7bD060eec7DF8CBa43b7EF41Ad85\",\n",
        "    \"Ocean\": \"0xD4Fb89A009Cf22246b69d17A420dfB9fcd2a4014\",\n",
        "    \"Paal\": \"0x14fee680690900ba0cccfc76ad70fd1b95d10e16\",\n",
        "    \"Rndr\": \"0x6De037ef9aD2725EB40118Bb1702EBb27e4Aeb24\",\n",
        "    \"Opti\": \"0x562E362876c8Aee4744FC2c6aaC8394C312d215d\",\n",
        "    \"Jkl\": \"0xEfF402994Ffdb7161615252fE3bB1Ce295541917\",\n",
        "    \"Near\": \"0xFc19E4Ce0e0a27B09f2011eF0512669A0F76367A\",\n",
        "    \"Agix\": \"0x5B7533812759B45C2B44C19e320ba2cD2681b542\",\n",
        "    \"Orai\": \"0x4c11249814f11b9346808179cf06e71ac328c1b5\",\n",
        "    \"Zig\": \"0x3bcd9E57ab8f5E46947811e07212a27eD00A41F6\",\n",
        "    \"Glq\": \"0x9F9c8ec3534c3cE16F928381372BfbFBFb9F4D24\"\n",
        "}\n",
        "\n",
        "ai_coins = [\n",
        "    'Fet', 'Ocean', 'Paal-ai', 'Rndr', 'Opti', 'Jkl', 'Near', 'Agix', '0x0', 'Orai', 'Zig', 'Glq'\n",
        "]\n",
        "\n",
        "\n",
        "\n",
        "\n",
        "\n",
        "\n",
        "\n"
      ]
    },
    {
      "cell_type": "code",
      "execution_count": null,
      "metadata": {
        "id": "ZBolxVRLHFv4"
      },
      "outputs": [],
      "source": []
    },
    {
      "cell_type": "code",
      "execution_count": 8,
      "metadata": {
        "colab": {
          "base_uri": "https://localhost:8080/"
        },
        "id": "sTn6Ag3NZUxy",
        "outputId": "6a2574bc-6a7b-48ab-814b-941c751c1e74"
      },
      "outputs": [],
      "source": [
        "# coin prices for some days\n",
        "\n",
        "\n",
        "\n",
        "\n",
        "import pandas as pd\n",
        "\n",
        "\n",
        "\n",
        "def get_coin_prices_forDays_tokenAddress(contractAddress,currency=\"usd\",days=60):\n",
        "\n",
        " url= f\"https://api.coingecko.com/api/v3/coins/id/contract/{contractAddress}/market_chart\"\n",
        " params = {\n",
        "        'vs_currency': currency,\n",
        "        'days': days\n",
        "    }\n",
        " response=requests.get(url,headers=headers,params=params)\n",
        " return flatten_dict(pd.DataFrame(response.json()))"
      ]
    },
    {
      "cell_type": "code",
      "execution_count": 9,
      "metadata": {
        "colab": {
          "base_uri": "https://localhost:8080/"
        },
        "id": "19rRMzeIuQAI",
        "outputId": "bd771771-682e-4444-af2e-0cd037b04790"
      },
      "outputs": [
        {
          "name": "stdout",
          "output_type": "stream",
          "text": [
            "{'prices': 0       [1705665716510, 0.6310047893438431]\n",
            "1       [1705669314540, 0.6285160645294967]\n",
            "2       [1705672911225, 0.6284070135699819]\n",
            "3       [1705676522723, 0.6168879703084809]\n",
            "4       [1705680117608, 0.6119920088772425]\n",
            "                       ...                 \n",
            "1436    [1710835350289, 2.3153602073753032]\n",
            "1437     [1710838895910, 2.228501345017284]\n",
            "1438    [1710842953031, 2.3213303429819665]\n",
            "1439    [1710846491891, 2.3108806714340737]\n",
            "1440    [1710847931000, 2.3205187682755968]\n",
            "Name: prices, Length: 1441, dtype: object, 'market_caps': 0         [1705665716510, 656860464.911276]\n",
            "1        [1705669314540, 655833135.6815096]\n",
            "2        [1705672911225, 655781360.7309291]\n",
            "3        [1705676522723, 643526827.6768388]\n",
            "4        [1705680117608, 641223766.8463469]\n",
            "                       ...                 \n",
            "1436    [1710835350289, 2398209133.7697906]\n",
            "1437      [1710838895910, 2342965045.93182]\n",
            "1438    [1710842953031, 2427126237.8930273]\n",
            "1439     [1710846491891, 2423294950.708332]\n",
            "1440     [1710847931000, 2412727045.974005]\n",
            "Name: market_caps, Length: 1441, dtype: object, 'total_volumes': 0       [1705665716510, 84269263.30139804]\n",
            "1       [1705669314540, 84579021.12445173]\n",
            "2       [1705672911225, 83577628.68681313]\n",
            "3       [1705676522723, 80290225.70516576]\n",
            "4        [1705680117608, 81483954.3393515]\n",
            "                       ...                \n",
            "1436    [1710835350289, 643906769.6853888]\n",
            "1437     [1710838895910, 655198094.610482]\n",
            "1438    [1710842953031, 665404536.0116457]\n",
            "1439     [1710846491891, 679048949.539224]\n",
            "1440    [1710847931000, 664923559.2486908]\n",
            "Name: total_volumes, Length: 1441, dtype: object}\n"
          ]
        }
      ],
      "source": [
        "token_address=\"0xaea46a60368a7bd060eec7df8cba43b7ef41ad85\"\n",
        "\n",
        "\n",
        "print(get_coin_prices_forDays_tokenAddress(token_address))"
      ]
    }
  ],
  "metadata": {
    "colab": {
      "provenance": []
    },
    "kernelspec": {
      "display_name": "Python 3",
      "name": "python3"
    },
    "language_info": {
      "codemirror_mode": {
        "name": "ipython",
        "version": 3
      },
      "file_extension": ".py",
      "mimetype": "text/x-python",
      "name": "python",
      "nbconvert_exporter": "python",
      "pygments_lexer": "ipython3",
      "version": "3.10.12"
    }
  },
  "nbformat": 4,
  "nbformat_minor": 0
}
