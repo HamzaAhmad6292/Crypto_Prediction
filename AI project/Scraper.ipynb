{
 "cells": [
  {
   "cell_type": "code",
   "execution_count": 1,
   "id": "5696ddf9",
   "metadata": {},
   "outputs": [],
   "source": [
    "import selenium\n",
    "from selenium import webdriver\n",
    "from selenium.webdriver.chrome.service import Service\n",
    "from selenium.webdriver.common.by import By\n",
    "from selenium.webdriver.common.keys import Keys\n",
    "from bs4 import BeautifulSoup\n",
    "import pandas as pd\n",
    "import time\n",
    "import requests\n",
    "import re\n",
    "from selenium.webdriver.support.ui import WebDriverWait\n",
    "from selenium.webdriver.support import expected_conditions as EC\n",
    "import getpass\n",
    "\n",
    "from selenium.common.exceptions import StaleElementReferenceException"
   ]
  },
  {
   "cell_type": "markdown",
   "id": "b8af585c",
   "metadata": {},
   "source": [
    "## Channels to scrape"
   ]
  },
  {
   "cell_type": "code",
   "execution_count": 2,
   "id": "973cef56",
   "metadata": {},
   "outputs": [],
   "source": [
    "channels=[\"db\",\"CryptoReviewing\",\"Salazar.eth\",\"IncomeSharks\",\"Whalefud Capital\",\"PeckShieldAlert\",\"Lookonchain\",\"Watcher.Guru\"]\n",
    "channel_at_sign =[\"@tier10k\",\"@CryptoReviewing\",\"0xSalazar\",\"@IncomeSharks\",\"@WhaleFUD\",\"@PeckShieldAlert\",\"@lookonchain\",\"@WatcherGuru\"]"
   ]
  },
  {
   "cell_type": "markdown",
   "id": "330c8c7d",
   "metadata": {},
   "source": [
    "## Start Chrome"
   ]
  },
  {
   "cell_type": "code",
   "execution_count": 3,
   "id": "e9e112f2",
   "metadata": {},
   "outputs": [],
   "source": [
    "path_of_chromium_driver = \"C:/Users/Hamza/Crypto analyzer/chromedriver-win64\"\n",
    "s = Service(path_of_chromium_driver+\"/chromedriver.exe\")\n",
    "driver = webdriver.Chrome(service = s)"
   ]
  },
  {
   "cell_type": "markdown",
   "id": "638078cb",
   "metadata": {},
   "source": [
    "##### Start Twitter"
   ]
  },
  {
   "cell_type": "code",
   "execution_count": 4,
   "id": "a982ef97",
   "metadata": {},
   "outputs": [],
   "source": [
    "twitter_url = \"https://twitter.com\""
   ]
  },
  {
   "cell_type": "code",
   "execution_count": 5,
   "id": "e1a826e1",
   "metadata": {},
   "outputs": [],
   "source": [
    "driver.get(twitter_url+\"/i/flow/login\")"
   ]
  },
  {
   "cell_type": "code",
   "execution_count": 6,
   "id": "f507a448",
   "metadata": {},
   "outputs": [],
   "source": [
    "username=driver.find_element(By.XPATH,'//*[@id=\"layers\"]/div/div/div/div/div/div/div[2]/div[2]/div/div/div[2]/div[2]/div/div/div/div[5]/label/div/div[2]/div/input')\n",
    "username.send_keys('sweetcandy6550@gmail.com')\n",
    "time.sleep(4)\n",
    "username.send_keys(Keys.ENTER)"
   ]
  },
  {
   "cell_type": "code",
   "execution_count": 8,
   "id": "97d524fc",
   "metadata": {},
   "outputs": [],
   "source": [
    "#Find the Xpath of password to pass password of account\n",
    "password=driver.find_element(By.XPATH,'//*[@id=\"layers\"]/div/div/div/div/div/div/div[2]/div[2]/div/div/div[2]/div[2]/div[1]/div/div/div[3]/div/label/div/div[2]/div[1]/input')\n",
    "password.send_keys(getpass.getpass('Enter your password: '))\n",
    "time.sleep(2)\n",
    "password.send_keys(Keys.ENTER)"
   ]
  },
  {
   "cell_type": "markdown",
   "id": "15da747e",
   "metadata": {},
   "source": [
    "## Scraping tweets"
   ]
  },
  {
   "cell_type": "code",
   "execution_count": 9,
   "id": "c3526ac5",
   "metadata": {},
   "outputs": [],
   "source": [
    "tweet_content=list()\n",
    "date_time=list()"
   ]
  },
  {
   "cell_type": "markdown",
   "id": "86203d1c",
   "metadata": {},
   "source": [
    "#### Search"
   ]
  },
  {
   "cell_type": "code",
   "execution_count": 12,
   "id": "576f0e35",
   "metadata": {},
   "outputs": [],
   "source": [
    "search_input = driver.find_element(By.XPATH, '//*[@id=\"react-root\"]/div/div/div[2]/main/div/div/div/div[2]/div/div[2]/div/div/div/div[1]/div/div/div/form/div[1]/div/div/div/label/div[2]/div/input')\n",
    "\n",
    "# Clear any existing value in the input field (optional)\n",
    "search_input.clear()\n",
    "\n",
    "# Input the desired value\n",
    "search_channel = channel_at_sign[0]\n",
    "search_input.send_keys(search_channel)\n",
    "\n",
    "# Submit the form or perform any other action (optional)\n",
    "# For example, you can submit the form by pressing Enter key\n",
    "search_input.submit()\n",
    "\n"
   ]
  },
  {
   "cell_type": "markdown",
   "id": "cbdd2b0a",
   "metadata": {},
   "source": [
    "##### Direct channels"
   ]
  },
  {
   "cell_type": "code",
   "execution_count": 10,
   "id": "7a412276",
   "metadata": {},
   "outputs": [],
   "source": [
    "#clean channel at sign here @10k -> 10k\n",
    "driver.get(twitter_url+\"/\"+\"tier10k\")\n",
    "\n",
    "#make a function and call like this:\n",
    "#func(channel_name):\n",
    "#   twitter_extracting code(channelid)"
   ]
  },
  {
   "cell_type": "code",
   "execution_count": 11,
   "id": "5da1b96a",
   "metadata": {},
   "outputs": [],
   "source": [
    "tweet_content=[]"
   ]
  },
  {
   "cell_type": "code",
   "execution_count": 12,
   "id": "8880e765",
   "metadata": {},
   "outputs": [
    {
     "name": "stdout",
     "output_type": "stream",
     "text": [
      "Number of tweets collected: 7\n",
      "Number of tweets collected: 11\n",
      "Number of tweets collected: 13\n",
      "Number of tweets collected: 17\n",
      "Number of tweets collected: 19\n",
      "Number of tweets collected: 28\n",
      "Number of tweets collected: 31\n",
      "Number of tweets collected: 36\n",
      "Number of tweets collected: 44\n",
      "Number of tweets collected: 53\n",
      "Number of tweets collected: 56\n",
      "Number of tweets collected: 60\n",
      "Number of tweets collected: 62\n",
      "Number of tweets collected: 64\n",
      "Number of tweets collected: 69\n",
      "Number of tweets collected: 78\n",
      "Number of tweets collected: 82\n",
      "Number of tweets collected: 85\n",
      "Number of tweets collected: 90\n",
      "Number of tweets collected: 100\n",
      "Number of tweets collected: 102\n"
     ]
    }
   ],
   "source": [
    "\n",
    "last_position = driver.execute_script(\"return window.pageYOffset;\")\n",
    "\n",
    "while True:\n",
    "    try:\n",
    "        driver.execute_script(\"window.scrollTo(0, document.body.scrollHeight);\")\n",
    "        \n",
    "        tweets = driver.find_elements(By.XPATH, '//div[@data-testid=\"tweetText\"]')\n",
    "        \n",
    "        for tweet in tweets:\n",
    "            content = tweet.text\n",
    "            \n",
    "            try:\n",
    "                time_element = tweet.find_element(By.XPATH, './preceding::time[1]')\n",
    "                datetime_value = time_element.get_attribute('datetime')\n",
    "            except:\n",
    "                datetime_value = None\n",
    "            \n",
    "            tweet_content.append({\"content\": content, \"timestamp\": datetime_value})\n",
    "        \n",
    "        new_position = driver.execute_script(\"return window.pageYOffset;\")\n",
    "        \n",
    "        if new_position == last_position:\n",
    "            driver.refresh()\n",
    "        else:\n",
    "            last_position = new_position\n",
    "        \n",
    "        print(\"Number of tweets collected:\", len(tweet_content))\n",
    "        \n",
    "        if len(tweet_content) > 100:\n",
    "            break\n",
    "        \n",
    "        time.sleep(7)\n",
    "    except StaleElementReferenceException:\n",
    "#         tweets = driver.find_elements(By.XPATH, '//div[@data-testid=\"tweetText\"]')\n",
    "#         for tweet in tweets:\n",
    "#             tweet_content.append(tweet.text)\n",
    "#         driver.execute_script(\"window.scrollTo(0, document.body.scrollHeight);\")\n",
    "        continue\n",
    "        time.sleep(3)"
   ]
  },
  {
   "cell_type": "markdown",
   "id": "c1626899",
   "metadata": {},
   "source": [
    "### Tweet"
   ]
  },
  {
   "cell_type": "code",
   "execution_count": 13,
   "id": "ff00ff1c",
   "metadata": {},
   "outputs": [
    {
     "name": "stdout",
     "output_type": "stream",
     "text": [
      "{'content': 'IT IS THEREFORE ORDERED, ... that the Proposals (SR-NYSEARCA-2021-90; SR-NYSEARCA-2023-44; SR-NYSEARCA2023-58; SR-NASDAQ-2023-016; SR-NASDAQ-2023-019; SR-CboeBZX-2023-028; SRCboeBZX-2023-038; SR-CboeBZX-2023-040; SR-CboeBZX-2023-042; SR-CboeBZX-2023- 044; SR-CboeBZX-2023-072) be,…', 'timestamp': '2024-01-10T20:46:03.000Z'}\n",
      "{'content': 'CBOE SAYS SPOT BITCOIN ETFS WILL BEGIN TRADING TOMORROW\\n\\nSource: DB | Coins: BTC', 'timestamp': '2024-01-10T19:07:04.000Z'}\n",
      "{'content': 'https://cboe.com/us/equities/notices/new_listings/details/?etf=true&firm_name=ARK+21+Shares&first_trade_dt=2024-01-11&ipo=true&symbols=ARKB…\\n\\nhttps://cboe.com/us/equities/notices/new_listings/details/?etf=true&firm_name=Fidelity&first_trade_dt=2024-01-11&ipo=true&symbols=FBTC…\\n\\nhttps://cboe.com/us/equities/notices/new_listings/details/?etf=true&firm_name=VanEck&first_trade_dt=2024-01-11&ipo=true&symbols=HODL…\\n\\netc', 'timestamp': '2024-01-10T19:10:04.000Z'}\n",
      "{'content': 'SEC Says Bitcoin ETFs Have Not Received Approval on Tuesday\\n\\nSource: Bloomberg | Coins: BTC', 'timestamp': '2024-01-09T21:25:11.000Z'}\n",
      "{'content': 'A twitter announcement? lmaoooooo', 'timestamp': '2024-01-09T21:14:07.000Z'}\n",
      "{'content': 'secgov: \" Today the SEC grants approval for #Bitcoin ETFs for listing on all registered national securities exchanges. \\n \\nThe approved Bitcoin ETFs will be subject to ongoing surveillance and co\\n\\nSource: Twitter | Coins: BTC\\n\\nhttps://twitter.com/secgov/status/1744829327294837236…', 'timestamp': '2024-01-09T21:12:04.000Z'}\n",
      "{'content': 'We deserve this', 'timestamp': '2023-12-05T17:32:59.000Z'}\n",
      "{'content': 'I forgot twitter doesnt render titles now smh\\n\\nSam Altman Will Not Return as CEO of OpenAI', 'timestamp': '2023-11-20T04:59:45.000Z'}\n",
      "{'content': 'FIDELITY FILES FOR ETHEREUM ETF\\n\\nSource: DB | Coins: ETH', 'timestamp': '2023-11-17T22:26:33.000Z'}\n",
      "{'content': 'https://cdn.cboe.com/resources/regulation/rule_filings/pending/2023/SR-CboeBZX-2023-095.pdf…', 'timestamp': '2023-11-17T22:27:37.000Z'}\n",
      "{'content': 'PPI MoM: -0.5%\\nEst. 0.1%\\n\\nSource: BB Economic Event | Coins: BTC', 'timestamp': '2023-11-15T13:30:17.000Z'}\n",
      "{'content': \"Cointelegraph edits tweet, adding 'reportedly' \", 'timestamp': '2023-10-16T13:57:43.000Z'}\n",
      "{'content': 'aaaand its gone', 'timestamp': '2023-10-16T14:02:55.000Z'}\n",
      "{'content': 'RE Salame 1.5 Billy\\n\\nIt appears (in my non-lawyer opinion) that although there is a $1.5B judgment if he pays up $6M before sentencing and hands over the property and Porsche,  the judgment is satisfied.', 'timestamp': '2023-09-07T21:22:54.000Z'}\n",
      "{'content': '[DB] Ark Files for Spot Eth ETF', 'timestamp': '2023-09-06T17:55:58.000Z'}\n",
      "{'content': 'https://sec.gov/Archives/edgar/data/1992508/000119312523229449/d450565ds1.htm…', 'timestamp': '2023-09-06T17:56:13.000Z'}\n",
      "{'content': '[DB] Court: Grayscale’s Petition for Review Be Granted and the\\nCommission’s Order Be Vacated', 'timestamp': '2023-08-29T14:21:40.000Z'}\n",
      "{'content': 'XRP +50% on the day', 'timestamp': '2023-07-13T17:39:20.000Z'}\n",
      "{'content': '[DB] Ripple Sales of XRP Do Not Constitute Offer of Investment Contracts:  Judge', 'timestamp': '2023-07-13T15:27:27.000Z'}\n",
      "{'content': '[DB] NFP: 209k\\nEst. 230.0k', 'timestamp': '2023-07-07T12:30:18.000Z'}\n",
      "{'content': 'The F.B.I. searched the home of the cryptocurrency executive Jesse Powell in March as part of a criminal investigation into claims that he hacked and cyber-stalked a nonprofit that he founded, three people with knowledge of the matter said.\\n\\n1) What', 'timestamp': '2023-07-06T22:16:39.000Z'}\n",
      "{'content': \"[DB] Binance Senior Execs Quit Over CZ's Response to DOJ Investigation: Fortune\\n\\nSenior Figures, Including General Counsel Han Ng, Chief Strategy Officer Patrick Hillmann, and SVP for Compliance Steven Christie Told Zhao This Week They Are Leaving the Company\", 'timestamp': '2023-07-06T21:01:52.000Z'}\n",
      "{'content': '[DB] Fidelity Refiles for Spot Bitcoin ETF', 'timestamp': '2023-06-29T17:05:57.000Z'}\n",
      "{'content': 'https://cdn.cboe.com/resources/regulation/rule_filings/pending/2023/SR-CboeBZX-2023-044.pdf…', 'timestamp': '2023-06-29T17:06:11.000Z'}\n",
      "{'content': 'FID alleged Prime Trust lost access to legacy wallets in 2021 and used customer assets to buy back crypto\\n\\noh brother', 'timestamp': '2023-06-27T17:21:26.000Z'}\n",
      "{'content': '[DB] Nevada FID Files Petition to Place Prime Trust Into Receivership', 'timestamp': '2023-06-27T17:15:41.000Z'}\n",
      "{'content': 'Prime Trust owes customers $85,670,000, in fiat currency, but only has $2,904,000 \\n\\nAs to digital currency, PT owes $69,509,000 to its clients but only has $68,648,000', 'timestamp': '2023-06-27T17:24:44.000Z'}\n",
      "{'content': '[DB] Nevada FID Files Petition to Place Prime Trust Into Receivership', 'timestamp': '2023-06-27T17:15:41.000Z'}\n",
      "{'content': \"SEC COMPLAINT VS BINANCE: BINANCE'S US AFFILIATE TRANSFERED AT LEAST $145 MLN TO ACCOUNT OF A ZHAO-CONTROLLED ENTITY, WHICH THEN BOUGHT A YACHT\", 'timestamp': '2023-06-05T15:52:39.000Z'}\n",
      "{'content': '[DB] SEC Alleges BNB, BUSD Are Securities in Lawsuit', 'timestamp': '2023-06-05T15:26:13.000Z'}\n",
      "{'content': 'SEC v Binance', 'timestamp': '2023-06-05T15:24:06.000Z'}\n",
      "{'content': 'Western Alliance is exploring strategic options including a potential sale of all or part of its business, according to two people briefed on the matter, as it becomes the latest US regional bank to seek a lifeline amid the turmoil sweeping through the industry.…', 'timestamp': '2023-05-04T14:18:53.000Z'}\n",
      "{'content': \"POWELL: CONTINUE TO THINK THAT IT'S POSSIBLE THAT THIS TIME IS REALLY DIFFERENT \", 'timestamp': '2023-05-03T19:01:01.000Z'}\n",
      "{'content': '[DB] Powell: We Are Prepared to Do More if Warranted: RTRS', 'timestamp': '2023-05-03T18:37:42.000Z'}\n",
      "{'content': 'No surprises, now we wait for Jerome ', 'timestamp': '2023-05-03T18:06:17.000Z'}\n",
      "{'content': '[DB] Fed Omits Prior Language That Signaled More Hikes Ahead: BBG', 'timestamp': '2023-05-03T18:00:25.000Z'}\n",
      "{'content': 'Interesting', 'timestamp': '2023-04-25T19:17:30.000Z'}\n",
      "{'content': 'Odds on Voyager tweet from His Excellency within the hour?', 'timestamp': '2023-04-25T18:52:02.000Z'}\n",
      "{'content': 'I have been working on a prediction model', 'timestamp': '2023-04-25T18:57:52.000Z'}\n",
      "{'content': '[DB] Crypto Lender Voyager Says Received a Letter From http://BINANCE.US Terminating the Asset Purchase Agreement', 'timestamp': '2023-04-25T17:59:15.000Z'}\n",
      "{'content': 'Pour one out for Voyager creditors\\n\\nFTX gonna save us\\nFTX implodes \\nBinance gonna save us \\nUS blocks sale \\nCourt allows sale to go through \\nBinance pulls out ', 'timestamp': '2023-04-25T18:06:28.000Z'}\n",
      "{'content': '[DB] Crypto Lender Voyager Says Received a Letter From http://BINANCE.US Terminating the Asset Purchase Agreement', 'timestamp': '2023-04-25T17:59:15.000Z'}\n"
     ]
    }
   ],
   "source": [
    "for i in range(0,len(tweet_content)):\n",
    "    print(tweet_content[i])\n",
    "    \n",
    "    if i>40:\n",
    "        break"
   ]
  },
  {
   "cell_type": "markdown",
   "id": "a758c310",
   "metadata": {},
   "source": [
    "### Saving tweets to a file so i dont have to scrape for 100 everytime"
   ]
  },
  {
   "cell_type": "code",
   "execution_count": 21,
   "id": "8c4ab3c2",
   "metadata": {},
   "outputs": [],
   "source": [
    "import pandas as pd\n",
    "\n",
    "dataset = pd.DataFrame()\n",
    "for row in tweet_content:\n",
    "    dataset = dataset.append(row,ignore_index=True)"
   ]
  },
  {
   "cell_type": "code",
   "execution_count": 22,
   "id": "076a3ae0",
   "metadata": {},
   "outputs": [
    {
     "data": {
      "text/html": [
       "<div>\n",
       "<style scoped>\n",
       "    .dataframe tbody tr th:only-of-type {\n",
       "        vertical-align: middle;\n",
       "    }\n",
       "\n",
       "    .dataframe tbody tr th {\n",
       "        vertical-align: top;\n",
       "    }\n",
       "\n",
       "    .dataframe thead th {\n",
       "        text-align: right;\n",
       "    }\n",
       "</style>\n",
       "<table border=\"1\" class=\"dataframe\">\n",
       "  <thead>\n",
       "    <tr style=\"text-align: right;\">\n",
       "      <th></th>\n",
       "      <th>content</th>\n",
       "      <th>timestamp</th>\n",
       "    </tr>\n",
       "  </thead>\n",
       "  <tbody>\n",
       "    <tr>\n",
       "      <th>0</th>\n",
       "      <td>IT IS THEREFORE ORDERED, ... that the Proposal...</td>\n",
       "      <td>2024-01-10T20:46:03.000Z</td>\n",
       "    </tr>\n",
       "    <tr>\n",
       "      <th>1</th>\n",
       "      <td>CBOE SAYS SPOT BITCOIN ETFS WILL BEGIN TRADING...</td>\n",
       "      <td>2024-01-10T19:07:04.000Z</td>\n",
       "    </tr>\n",
       "    <tr>\n",
       "      <th>2</th>\n",
       "      <td>https://cboe.com/us/equities/notices/new_listi...</td>\n",
       "      <td>2024-01-10T19:10:04.000Z</td>\n",
       "    </tr>\n",
       "    <tr>\n",
       "      <th>3</th>\n",
       "      <td>SEC Says Bitcoin ETFs Have Not Received Approv...</td>\n",
       "      <td>2024-01-09T21:25:11.000Z</td>\n",
       "    </tr>\n",
       "    <tr>\n",
       "      <th>4</th>\n",
       "      <td>A twitter announcement? lmaoooooo</td>\n",
       "      <td>2024-01-09T21:14:07.000Z</td>\n",
       "    </tr>\n",
       "  </tbody>\n",
       "</table>\n",
       "</div>"
      ],
      "text/plain": [
       "                                             content                 timestamp\n",
       "0  IT IS THEREFORE ORDERED, ... that the Proposal...  2024-01-10T20:46:03.000Z\n",
       "1  CBOE SAYS SPOT BITCOIN ETFS WILL BEGIN TRADING...  2024-01-10T19:07:04.000Z\n",
       "2  https://cboe.com/us/equities/notices/new_listi...  2024-01-10T19:10:04.000Z\n",
       "3  SEC Says Bitcoin ETFs Have Not Received Approv...  2024-01-09T21:25:11.000Z\n",
       "4                  A twitter announcement? lmaoooooo  2024-01-09T21:14:07.000Z"
      ]
     },
     "execution_count": 22,
     "metadata": {},
     "output_type": "execute_result"
    }
   ],
   "source": [
    "dataset.head()"
   ]
  },
  {
   "cell_type": "code",
   "execution_count": 23,
   "id": "c1affb16",
   "metadata": {},
   "outputs": [],
   "source": [
    "dataset.to_csv('Tweets and Time Stamp')"
   ]
  },
  {
   "cell_type": "code",
   "execution_count": null,
   "id": "a49c23c4",
   "metadata": {},
   "outputs": [],
   "source": []
  }
 ],
 "metadata": {
  "kernelspec": {
   "display_name": "Python 3 (ipykernel)",
   "language": "python",
   "name": "python3"
  },
  "language_info": {
   "codemirror_mode": {
    "name": "ipython",
    "version": 3
   },
   "file_extension": ".py",
   "mimetype": "text/x-python",
   "name": "python",
   "nbconvert_exporter": "python",
   "pygments_lexer": "ipython3",
   "version": "3.7.5"
  }
 },
 "nbformat": 4,
 "nbformat_minor": 5
}
