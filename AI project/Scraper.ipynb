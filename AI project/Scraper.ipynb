{
 "cells": [
  {
   "cell_type": "markdown",
   "id": "dcd54583",
   "metadata": {},
   "source": [
    "> # Block Chain Twitter sentiments Analysis"
   ]
  },
  {
   "cell_type": "markdown",
   "id": "6738eaf3",
   "metadata": {},
   "source": [
    "> Libraries"
   ]
  },
  {
   "cell_type": "code",
   "execution_count": 2,
   "id": "5696ddf9",
   "metadata": {},
   "outputs": [],
   "source": [
    "import selenium\n",
    "from selenium import webdriver\n",
    "from selenium.webdriver.chrome.service import Service\n",
    "from selenium.webdriver.common.by import By\n",
    "from selenium.webdriver.common.keys import Keys\n",
    "from bs4 import BeautifulSoup\n",
    "import pandas as pd\n",
    "import time\n",
    "import requests\n",
    "import re\n",
    "from selenium.webdriver.support.ui import WebDriverWait\n",
    "from selenium.webdriver.support import expected_conditions as EC\n",
    "import getpass\n",
    "\n",
    "from selenium.common.exceptions import StaleElementReferenceException\n",
    "import pandas as pd"
   ]
  },
  {
   "cell_type": "markdown",
   "id": "b8af585c",
   "metadata": {},
   "source": [
    "> Channels to scrape"
   ]
  },
  {
   "cell_type": "code",
   "execution_count": 3,
   "id": "973cef56",
   "metadata": {},
   "outputs": [],
   "source": [
    "channels=[\"db\",\"CryptoReviewing\",\"Salazar.eth\",\"IncomeSharks\",\"Whalefud Capital\",\"PeckShieldAlert\",\"Lookonchain\",\"Watcher.Guru\"]\n",
    "channel_at_sign =[\"@tier10k\",\"@CryptoReviewing\",\"0xSalazar\",\"@IncomeSharks\",\"@WhaleFUD\",\"@PeckShieldAlert\",\"@lookonchain\",\"@WatcherGuru\"]"
   ]
  },
  {
   "cell_type": "markdown",
   "id": "330c8c7d",
   "metadata": {},
   "source": [
    "> Start Chrome"
   ]
  },
  {
   "cell_type": "code",
   "execution_count": 4,
   "id": "e9e112f2",
   "metadata": {},
   "outputs": [],
   "source": [
    "path_of_chromium_driver = \"C:/Users/Hamza/Crypto analyzer/chromedriver-win64\"\n",
    "s = Service(path_of_chromium_driver+\"/chromedriver.exe\")\n",
    "driver = webdriver.Chrome(service = s)"
   ]
  },
  {
   "cell_type": "markdown",
   "id": "638078cb",
   "metadata": {},
   "source": [
    "> Start Twitter"
   ]
  },
  {
   "cell_type": "code",
   "execution_count": 5,
   "id": "a982ef97",
   "metadata": {},
   "outputs": [],
   "source": [
    "twitter_url = \"https://twitter.com\""
   ]
  },
  {
   "cell_type": "code",
   "execution_count": 7,
   "id": "e1a826e1",
   "metadata": {},
   "outputs": [],
   "source": [
    "driver.get(twitter_url+\"/i/flow/login\")"
   ]
  },
  {
   "cell_type": "code",
   "execution_count": 8,
   "id": "f507a448",
   "metadata": {},
   "outputs": [],
   "source": [
    "username=driver.find_element(By.XPATH,'//*[@id=\"layers\"]/div/div/div/div/div/div/div[2]/div[2]/div/div/div[2]/div[2]/div/div/div/div[5]/label/div/div[2]/div/input')\n",
    "username.send_keys('sweetcandy6550@gmail.com')\n",
    "time.sleep(4)\n",
    "username.send_keys(Keys.ENTER)"
   ]
  },
  {
   "cell_type": "code",
   "execution_count": 9,
   "id": "97d524fc",
   "metadata": {},
   "outputs": [],
   "source": [
    "#Find the Xpath of password to pass password of account\n",
    "password=driver.find_element(By.XPATH,'//*[@id=\"layers\"]/div/div/div/div/div/div/div[2]/div[2]/div/div/div[2]/div[2]/div[1]/div/div/div[3]/div/label/div/div[2]/div[1]/input')\n",
    "password.send_keys(getpass.getpass('Enter your password: '))\n",
    "time.sleep(2)\n",
    "password.send_keys(Keys.ENTER)"
   ]
  },
  {
   "cell_type": "markdown",
   "id": "15da747e",
   "metadata": {},
   "source": [
    "> Scraping tweets"
   ]
  },
  {
   "cell_type": "code",
   "execution_count": 9,
   "id": "c3526ac5",
   "metadata": {},
   "outputs": [],
   "source": [
    "tweet_content=list()\n",
    "date_time=list()"
   ]
  },
  {
   "cell_type": "markdown",
   "id": "86203d1c",
   "metadata": {},
   "source": [
    "> Search bar"
   ]
  },
  {
   "cell_type": "code",
   "execution_count": 10,
   "id": "576f0e35",
   "metadata": {},
   "outputs": [],
   "source": [
    "# search_input = driver.find_element(By.XPATH, '//*[@id=\"react-root\"]/div/div/div[2]/main/div/div/div/div[2]/div/div[2]/div/div/div/div[1]/div/div/div/form/div[1]/div/div/div/label/div[2]/div/input')\n",
    "\n",
    "# # Clear any existing value in the input field (optional)\n",
    "# search_input.clear()\n",
    "\n",
    "# # Input the desired value\n",
    "# search_channel = channel_at_sign[0]\n",
    "# search_input.send_keys(search_channel)\n",
    "\n",
    "# # Submit the form or perform any other action (optional)\n",
    "# # For example, you can submit the form by pressing Enter key\n",
    "# search_input.submit()\n",
    "\n",
    "def get_search_page(search_query):\n",
    "    search_input = driver.find_element(By.XPATH, '//*[@id=\"react-root\"]/div/div/div[2]/main/div/div/div/div[2]/div/div[2]/div/div/div/div[1]/div/div/div/form/div[1]/div/div/div/label/div[2]/div/input')\n",
    "\n",
    "    search_input.clear()\n",
    "    search_input.send_keys(search_query)\n",
    "    search_input.submit()\n",
    "    \n",
    "    return "
   ]
  },
  {
   "cell_type": "markdown",
   "id": "cbdd2b0a",
   "metadata": {},
   "source": [
    "> Direct channels"
   ]
  },
  {
   "cell_type": "code",
   "execution_count": 11,
   "id": "7a412276",
   "metadata": {},
   "outputs": [],
   "source": [
    "def get_page(channel_at_sign_name):\n",
    "    channel_name = channel_at_sign_name\n",
    "    driver.get(twitter_url+\"/\"+channel_name)\n",
    "    "
   ]
  },
  {
   "cell_type": "code",
   "execution_count": 18,
   "id": "8880e765",
   "metadata": {},
   "outputs": [],
   "source": [
    "def get_tweets(channel_name,max_tweets):\n",
    "    tweet_content=[]\n",
    "    last_position = driver.execute_script(\"return window.pageYOffset;\")\n",
    "    content_tweet_set = set()\n",
    "    wait=0\n",
    "    while True:\n",
    "        try:\n",
    "            driver.execute_script(\"window.scrollTo(0, document.body.scrollHeight);\")\n",
    "\n",
    "            tweets = driver.find_elements(By.XPATH, '//div[@data-testid=\"tweetText\"]')\n",
    "\n",
    "            for tweet in tweets:\n",
    "                content = tweet.text\n",
    "                \n",
    "                try:\n",
    "                    time_element = tweet.find_element(By.XPATH, './preceding::time[1]')\n",
    "                    datetime_value = time_element.get_attribute('datetime')\n",
    "                except:\n",
    "                    datetime_value = None\n",
    "                if content not in content_tweet_set:\n",
    "                    content_tweet_set.add(content)\n",
    "                    tweet_content.append({\"channel:\":channel_name,\"content\": content, \"timestamp\": datetime_value})\n",
    "\n",
    "            new_position = driver.execute_script(\"return window.pageYOffset;\")\n",
    "\n",
    "            if new_position == last_position:\n",
    "                driver.refresh()\n",
    "            else:\n",
    "                last_position = new_position\n",
    "\n",
    "            print(\"Number of tweets collected:\", len(tweet_content))\n",
    "\n",
    "            if len(tweet_content) > max_tweets:\n",
    "                print(\"tweet_content reached max_tweets\")\n",
    "                break\n",
    "            \n",
    "            time.sleep(7)\n",
    "        except StaleElementReferenceException:\n",
    "    #         tweets = driver.find_elements(By.XPATH, '//div[@data-testid=\"tweetText\"]')\n",
    "    #         for tweet in tweets:\n",
    "    #             tweet_content.append(tweet.text)\n",
    "    #         driver.execute_script(\"window.scrollTo(0, document.body.scrollHeight);\")\n",
    "            wait+=5\n",
    "            time.sleep(3+wait)\n",
    "            continue\n",
    "        time.sleep(3+wait)\n",
    "    return tweet_content"
   ]
  },
  {
   "cell_type": "code",
   "execution_count": 16,
   "id": "644b8bdd",
   "metadata": {},
   "outputs": [],
   "source": [
    "tweet_content_all_channels=[]"
   ]
  },
  {
   "cell_type": "code",
   "execution_count": 17,
   "id": "963c5da7",
   "metadata": {},
   "outputs": [
    {
     "name": "stdout",
     "output_type": "stream",
     "text": [
      "Number of tweets collected: 0\n",
      "Number of tweets collected: 6\n",
      "Number of tweets collected: 12\n",
      "Number of tweets collected: 19\n",
      "Number of tweets collected: 27\n",
      "Number of tweets collected: 27\n",
      "Number of tweets collected: 27\n",
      "Number of tweets collected: 27\n",
      "Number of tweets collected: 27\n",
      "Number of tweets collected: 27\n"
     ]
    },
    {
     "ename": "NoSuchWindowException",
     "evalue": "Message: no such window: target window already closed\nfrom unknown error: web view not found\n  (Session info: chrome=122.0.6261.129)\nStacktrace:\n\tGetHandleVerifier [0x00007FF6FA18AD02+56930]\n\t(No symbol) [0x00007FF6FA0FF602]\n\t(No symbol) [0x00007FF6F9FB42E5]\n\t(No symbol) [0x00007FF6F9F91D4C]\n\t(No symbol) [0x00007FF6FA0223F7]\n\t(No symbol) [0x00007FF6FA037891]\n\t(No symbol) [0x00007FF6FA01BA43]\n\t(No symbol) [0x00007FF6F9FED438]\n\t(No symbol) [0x00007FF6F9FEE4D1]\n\tGetHandleVerifier [0x00007FF6FA506F8D+3711213]\n\tGetHandleVerifier [0x00007FF6FA5604CD+4077101]\n\tGetHandleVerifier [0x00007FF6FA55865F+4044735]\n\tGetHandleVerifier [0x00007FF6FA229736+706710]\n\t(No symbol) [0x00007FF6FA10B8DF]\n\t(No symbol) [0x00007FF6FA106AC4]\n\t(No symbol) [0x00007FF6FA106C1C]\n\t(No symbol) [0x00007FF6FA0F68D4]\n\tBaseThreadInitThunk [0x00007FF8FBD97344+20]\n\tRtlUserThreadStart [0x00007FF8FC6426B1+33]\n",
     "output_type": "error",
     "traceback": [
      "\u001b[1;31m---------------------------------------------------------------------------\u001b[0m",
      "\u001b[1;31mNoSuchWindowException\u001b[0m                     Traceback (most recent call last)",
      "\u001b[1;32m~\\AppData\\Local\\Temp\\ipykernel_3772\\2402459634.py\u001b[0m in \u001b[0;36m<module>\u001b[1;34m\u001b[0m\n\u001b[0;32m      1\u001b[0m \u001b[0mget_page\u001b[0m\u001b[1;33m(\u001b[0m\u001b[0mchannel_at_sign_name\u001b[0m\u001b[1;33m=\u001b[0m\u001b[0mchannel_at_sign\u001b[0m\u001b[1;33m[\u001b[0m\u001b[1;36m1\u001b[0m\u001b[1;33m]\u001b[0m\u001b[1;33m)\u001b[0m\u001b[1;33m\u001b[0m\u001b[1;33m\u001b[0m\u001b[0m\n\u001b[1;32m----> 2\u001b[1;33m \u001b[0mtweets\u001b[0m \u001b[1;33m=\u001b[0m \u001b[0mget_tweets\u001b[0m\u001b[1;33m(\u001b[0m\u001b[0mchannel_name\u001b[0m\u001b[1;33m=\u001b[0m\u001b[0mchannel_at_sign\u001b[0m\u001b[1;33m[\u001b[0m\u001b[1;36m1\u001b[0m\u001b[1;33m]\u001b[0m\u001b[1;33m,\u001b[0m\u001b[0mmax_tweets\u001b[0m\u001b[1;33m=\u001b[0m\u001b[1;36m100\u001b[0m\u001b[1;33m)\u001b[0m\u001b[1;33m\u001b[0m\u001b[1;33m\u001b[0m\u001b[0m\n\u001b[0m\u001b[0;32m      3\u001b[0m \u001b[0mtweet_content_all_channels\u001b[0m\u001b[1;33m.\u001b[0m\u001b[0mappend\u001b[0m\u001b[1;33m(\u001b[0m\u001b[0mtweets\u001b[0m\u001b[1;33m)\u001b[0m\u001b[1;33m\u001b[0m\u001b[1;33m\u001b[0m\u001b[0m\n",
      "\u001b[1;32m~\\AppData\\Local\\Temp\\ipykernel_3772\\1182380970.py\u001b[0m in \u001b[0;36mget_tweets\u001b[1;34m(channel_name, max_tweets)\u001b[0m\n\u001b[0;32m      5\u001b[0m     \u001b[1;32mwhile\u001b[0m \u001b[1;32mTrue\u001b[0m\u001b[1;33m:\u001b[0m\u001b[1;33m\u001b[0m\u001b[1;33m\u001b[0m\u001b[0m\n\u001b[0;32m      6\u001b[0m         \u001b[1;32mtry\u001b[0m\u001b[1;33m:\u001b[0m\u001b[1;33m\u001b[0m\u001b[1;33m\u001b[0m\u001b[0m\n\u001b[1;32m----> 7\u001b[1;33m             \u001b[0mdriver\u001b[0m\u001b[1;33m.\u001b[0m\u001b[0mexecute_script\u001b[0m\u001b[1;33m(\u001b[0m\u001b[1;34m\"window.scrollTo(0, document.body.scrollHeight);\"\u001b[0m\u001b[1;33m)\u001b[0m\u001b[1;33m\u001b[0m\u001b[1;33m\u001b[0m\u001b[0m\n\u001b[0m\u001b[0;32m      8\u001b[0m \u001b[1;33m\u001b[0m\u001b[0m\n\u001b[0;32m      9\u001b[0m             \u001b[0mtweets\u001b[0m \u001b[1;33m=\u001b[0m \u001b[0mdriver\u001b[0m\u001b[1;33m.\u001b[0m\u001b[0mfind_elements\u001b[0m\u001b[1;33m(\u001b[0m\u001b[0mBy\u001b[0m\u001b[1;33m.\u001b[0m\u001b[0mXPATH\u001b[0m\u001b[1;33m,\u001b[0m \u001b[1;34m'//div[@data-testid=\"tweetText\"]'\u001b[0m\u001b[1;33m)\u001b[0m\u001b[1;33m\u001b[0m\u001b[1;33m\u001b[0m\u001b[0m\n",
      "\u001b[1;32md:\\Python64\\lib\\site-packages\\selenium\\webdriver\\remote\\webdriver.py\u001b[0m in \u001b[0;36mexecute_script\u001b[1;34m(self, script, *args)\u001b[0m\n\u001b[0;32m    403\u001b[0m         \u001b[0mcommand\u001b[0m \u001b[1;33m=\u001b[0m \u001b[0mCommand\u001b[0m\u001b[1;33m.\u001b[0m\u001b[0mW3C_EXECUTE_SCRIPT\u001b[0m\u001b[1;33m\u001b[0m\u001b[1;33m\u001b[0m\u001b[0m\n\u001b[0;32m    404\u001b[0m \u001b[1;33m\u001b[0m\u001b[0m\n\u001b[1;32m--> 405\u001b[1;33m         \u001b[1;32mreturn\u001b[0m \u001b[0mself\u001b[0m\u001b[1;33m.\u001b[0m\u001b[0mexecute\u001b[0m\u001b[1;33m(\u001b[0m\u001b[0mcommand\u001b[0m\u001b[1;33m,\u001b[0m \u001b[1;33m{\u001b[0m\u001b[1;34m\"script\"\u001b[0m\u001b[1;33m:\u001b[0m \u001b[0mscript\u001b[0m\u001b[1;33m,\u001b[0m \u001b[1;34m\"args\"\u001b[0m\u001b[1;33m:\u001b[0m \u001b[0mconverted_args\u001b[0m\u001b[1;33m}\u001b[0m\u001b[1;33m)\u001b[0m\u001b[1;33m[\u001b[0m\u001b[1;34m\"value\"\u001b[0m\u001b[1;33m]\u001b[0m\u001b[1;33m\u001b[0m\u001b[1;33m\u001b[0m\u001b[0m\n\u001b[0m\u001b[0;32m    406\u001b[0m \u001b[1;33m\u001b[0m\u001b[0m\n\u001b[0;32m    407\u001b[0m     \u001b[1;32mdef\u001b[0m \u001b[0mexecute_async_script\u001b[0m\u001b[1;33m(\u001b[0m\u001b[0mself\u001b[0m\u001b[1;33m,\u001b[0m \u001b[0mscript\u001b[0m\u001b[1;33m:\u001b[0m \u001b[0mstr\u001b[0m\u001b[1;33m,\u001b[0m \u001b[1;33m*\u001b[0m\u001b[0margs\u001b[0m\u001b[1;33m)\u001b[0m\u001b[1;33m:\u001b[0m\u001b[1;33m\u001b[0m\u001b[1;33m\u001b[0m\u001b[0m\n",
      "\u001b[1;32md:\\Python64\\lib\\site-packages\\selenium\\webdriver\\remote\\webdriver.py\u001b[0m in \u001b[0;36mexecute\u001b[1;34m(self, driver_command, params)\u001b[0m\n\u001b[0;32m    343\u001b[0m         \u001b[0mresponse\u001b[0m \u001b[1;33m=\u001b[0m \u001b[0mself\u001b[0m\u001b[1;33m.\u001b[0m\u001b[0mcommand_executor\u001b[0m\u001b[1;33m.\u001b[0m\u001b[0mexecute\u001b[0m\u001b[1;33m(\u001b[0m\u001b[0mdriver_command\u001b[0m\u001b[1;33m,\u001b[0m \u001b[0mparams\u001b[0m\u001b[1;33m)\u001b[0m\u001b[1;33m\u001b[0m\u001b[1;33m\u001b[0m\u001b[0m\n\u001b[0;32m    344\u001b[0m         \u001b[1;32mif\u001b[0m \u001b[0mresponse\u001b[0m\u001b[1;33m:\u001b[0m\u001b[1;33m\u001b[0m\u001b[1;33m\u001b[0m\u001b[0m\n\u001b[1;32m--> 345\u001b[1;33m             \u001b[0mself\u001b[0m\u001b[1;33m.\u001b[0m\u001b[0merror_handler\u001b[0m\u001b[1;33m.\u001b[0m\u001b[0mcheck_response\u001b[0m\u001b[1;33m(\u001b[0m\u001b[0mresponse\u001b[0m\u001b[1;33m)\u001b[0m\u001b[1;33m\u001b[0m\u001b[1;33m\u001b[0m\u001b[0m\n\u001b[0m\u001b[0;32m    346\u001b[0m             \u001b[0mresponse\u001b[0m\u001b[1;33m[\u001b[0m\u001b[1;34m\"value\"\u001b[0m\u001b[1;33m]\u001b[0m \u001b[1;33m=\u001b[0m \u001b[0mself\u001b[0m\u001b[1;33m.\u001b[0m\u001b[0m_unwrap_value\u001b[0m\u001b[1;33m(\u001b[0m\u001b[0mresponse\u001b[0m\u001b[1;33m.\u001b[0m\u001b[0mget\u001b[0m\u001b[1;33m(\u001b[0m\u001b[1;34m\"value\"\u001b[0m\u001b[1;33m,\u001b[0m \u001b[1;32mNone\u001b[0m\u001b[1;33m)\u001b[0m\u001b[1;33m)\u001b[0m\u001b[1;33m\u001b[0m\u001b[1;33m\u001b[0m\u001b[0m\n\u001b[0;32m    347\u001b[0m             \u001b[1;32mreturn\u001b[0m \u001b[0mresponse\u001b[0m\u001b[1;33m\u001b[0m\u001b[1;33m\u001b[0m\u001b[0m\n",
      "\u001b[1;32md:\\Python64\\lib\\site-packages\\selenium\\webdriver\\remote\\errorhandler.py\u001b[0m in \u001b[0;36mcheck_response\u001b[1;34m(self, response)\u001b[0m\n\u001b[0;32m    227\u001b[0m                 \u001b[0malert_text\u001b[0m \u001b[1;33m=\u001b[0m \u001b[0mvalue\u001b[0m\u001b[1;33m[\u001b[0m\u001b[1;34m\"alert\"\u001b[0m\u001b[1;33m]\u001b[0m\u001b[1;33m.\u001b[0m\u001b[0mget\u001b[0m\u001b[1;33m(\u001b[0m\u001b[1;34m\"text\"\u001b[0m\u001b[1;33m)\u001b[0m\u001b[1;33m\u001b[0m\u001b[1;33m\u001b[0m\u001b[0m\n\u001b[0;32m    228\u001b[0m             \u001b[1;32mraise\u001b[0m \u001b[0mexception_class\u001b[0m\u001b[1;33m(\u001b[0m\u001b[0mmessage\u001b[0m\u001b[1;33m,\u001b[0m \u001b[0mscreen\u001b[0m\u001b[1;33m,\u001b[0m \u001b[0mstacktrace\u001b[0m\u001b[1;33m,\u001b[0m \u001b[0malert_text\u001b[0m\u001b[1;33m)\u001b[0m  \u001b[1;31m# type: ignore[call-arg]  # mypy is not smart enough here\u001b[0m\u001b[1;33m\u001b[0m\u001b[1;33m\u001b[0m\u001b[0m\n\u001b[1;32m--> 229\u001b[1;33m         \u001b[1;32mraise\u001b[0m \u001b[0mexception_class\u001b[0m\u001b[1;33m(\u001b[0m\u001b[0mmessage\u001b[0m\u001b[1;33m,\u001b[0m \u001b[0mscreen\u001b[0m\u001b[1;33m,\u001b[0m \u001b[0mstacktrace\u001b[0m\u001b[1;33m)\u001b[0m\u001b[1;33m\u001b[0m\u001b[1;33m\u001b[0m\u001b[0m\n\u001b[0m",
      "\u001b[1;31mNoSuchWindowException\u001b[0m: Message: no such window: target window already closed\nfrom unknown error: web view not found\n  (Session info: chrome=122.0.6261.129)\nStacktrace:\n\tGetHandleVerifier [0x00007FF6FA18AD02+56930]\n\t(No symbol) [0x00007FF6FA0FF602]\n\t(No symbol) [0x00007FF6F9FB42E5]\n\t(No symbol) [0x00007FF6F9F91D4C]\n\t(No symbol) [0x00007FF6FA0223F7]\n\t(No symbol) [0x00007FF6FA037891]\n\t(No symbol) [0x00007FF6FA01BA43]\n\t(No symbol) [0x00007FF6F9FED438]\n\t(No symbol) [0x00007FF6F9FEE4D1]\n\tGetHandleVerifier [0x00007FF6FA506F8D+3711213]\n\tGetHandleVerifier [0x00007FF6FA5604CD+4077101]\n\tGetHandleVerifier [0x00007FF6FA55865F+4044735]\n\tGetHandleVerifier [0x00007FF6FA229736+706710]\n\t(No symbol) [0x00007FF6FA10B8DF]\n\t(No symbol) [0x00007FF6FA106AC4]\n\t(No symbol) [0x00007FF6FA106C1C]\n\t(No symbol) [0x00007FF6FA0F68D4]\n\tBaseThreadInitThunk [0x00007FF8FBD97344+20]\n\tRtlUserThreadStart [0x00007FF8FC6426B1+33]\n"
     ]
    }
   ],
   "source": [
    "\n",
    "get_page(channel_at_sign_name=channel_at_sign[1])\n",
    "tweets = get_tweets(channel_name=channel_at_sign[1],max_tweets=100)\n",
    "tweet_content_all_channels.append(tweets)"
   ]
  },
  {
   "cell_type": "markdown",
   "id": "c1626899",
   "metadata": {},
   "source": [
    "### Tweet"
   ]
  },
  {
   "cell_type": "code",
   "execution_count": 22,
   "id": "ff00ff1c",
   "metadata": {},
   "outputs": [
    {
     "data": {
      "text/plain": [
       "[]"
      ]
     },
     "execution_count": 22,
     "metadata": {},
     "output_type": "execute_result"
    }
   ],
   "source": [
    "# for i in range(0,len(tweet_content_all_channels)):\n",
    "#     print(tweet_content_all_channels[i])\n",
    "    \n",
    "#     if i>40:\n",
    "#         break\n",
    "tweet_content_all_channels"
   ]
  },
  {
   "cell_type": "markdown",
   "id": "a758c310",
   "metadata": {},
   "source": [
    "### Saving tweets to a file so i dont have to scrape for 100 everytime"
   ]
  },
  {
   "cell_type": "code",
   "execution_count": 15,
   "id": "8c4ab3c2",
   "metadata": {},
   "outputs": [],
   "source": [
    "\n",
    "\n",
    "dataset = pd.DataFrame()\n",
    "for row in tweet_content_all_channels:\n",
    "    dataset = dataset.append(row,ignore_index=True)"
   ]
  },
  {
   "cell_type": "code",
   "execution_count": 18,
   "id": "076a3ae0",
   "metadata": {},
   "outputs": [
    {
     "name": "stdout",
     "output_type": "stream",
     "text": [
      "<class 'pandas.core.frame.DataFrame'>\n",
      "RangeIndex: 9 entries, 0 to 8\n",
      "Data columns (total 3 columns):\n",
      " #   Column     Non-Null Count  Dtype \n",
      "---  ------     --------------  ----- \n",
      " 0   channel:   9 non-null      object\n",
      " 1   content    9 non-null      object\n",
      " 2   timestamp  9 non-null      object\n",
      "dtypes: object(3)\n",
      "memory usage: 344.0+ bytes\n"
     ]
    }
   ],
   "source": [
    "dataset.info()"
   ]
  },
  {
   "cell_type": "code",
   "execution_count": 25,
   "id": "c1affb16",
   "metadata": {},
   "outputs": [],
   "source": [
    "out_path = 'Tweets and Time Stamp.csv'\n",
    "dataset.to_csv(out_path,mode='a',header=not os.path.exists(out_path))"
   ]
  },
  {
   "cell_type": "code",
   "execution_count": null,
   "id": "a49c23c4",
   "metadata": {},
   "outputs": [],
   "source": []
  }
 ],
 "metadata": {
  "kernelspec": {
   "display_name": "Python 3 (ipykernel)",
   "language": "python",
   "name": "python3"
  },
  "language_info": {
   "codemirror_mode": {
    "name": "ipython",
    "version": 3
   },
   "file_extension": ".py",
   "mimetype": "text/x-python",
   "name": "python",
   "nbconvert_exporter": "python",
   "pygments_lexer": "ipython3",
   "version": "3.7.5"
  }
 },
 "nbformat": 4,
 "nbformat_minor": 5
}
