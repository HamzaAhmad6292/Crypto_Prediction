{
 "cells": [
  {
   "cell_type": "code",
   "execution_count": 29,
   "id": "5696ddf9",
   "metadata": {},
   "outputs": [],
   "source": [
    "import selenium\n",
    "from selenium import webdriver\n",
    "from selenium.webdriver.chrome.service import Service\n",
    "from selenium.webdriver.common.by import By\n",
    "from selenium.webdriver.common.keys import Keys\n",
    "from bs4 import BeautifulSoup\n",
    "import pandas as pd\n",
    "import time\n",
    "import requests\n",
    "import re\n",
    "from selenium.webdriver.support.ui import WebDriverWait\n",
    "from selenium.webdriver.support import expected_conditions as EC\n",
    "import getpass\n",
    "\n",
    "from selenium.common.exceptions import StaleElementReferenceException"
   ]
  },
  {
   "cell_type": "code",
   "execution_count": 58,
   "id": "b8ca79c6",
   "metadata": {},
   "outputs": [],
   "source": [
    "#TWITTER ENV DETAILS:\n",
    "#EMAIL : sweetcandy6550\n",
    "#Candyland432\n",
    "# twitter username = SweetCa42060334\n"
   ]
  },
  {
   "cell_type": "markdown",
   "id": "b8af585c",
   "metadata": {},
   "source": [
    "## Channels to scrape"
   ]
  },
  {
   "cell_type": "code",
   "execution_count": null,
   "id": "973cef56",
   "metadata": {},
   "outputs": [],
   "source": [
    "channels=[\"db\",\"CryptoReviewing\",\"Salazar.eth\",\"IncomeSharks\",\"Whalefud Capital\",\"PeckShieldAlert\",\"Lookonchain\",\"Watcher.Guru\"]\n",
    "channel_at_sign =[\"@tier10k\",\"@CryptoReviewing\",\"0xSalazar\",\"@IncomeSharks\",\"@WhaleFUD\",\"@PeckShieldAlert\",\"@lookonchain\",\"@WatcherGuru\"]"
   ]
  },
  {
   "cell_type": "code",
   "execution_count": 54,
   "id": "e9e112f2",
   "metadata": {},
   "outputs": [],
   "source": [
    "# s = Service(\"C:/Users/Hamza/Desktop/5th sem/DAV/chromedriver-win64/chromedriver.exe\")\n",
    "s = Service(\"C:/Users/Hamza/Crypto analyzer/chromedriver-win64/chromedriver.exe\")\n",
    "driver = webdriver.Chrome(service = s)"
   ]
  },
  {
   "cell_type": "code",
   "execution_count": 55,
   "id": "e1a826e1",
   "metadata": {},
   "outputs": [],
   "source": [
    "driver.get(\"https://twitter.com/i/flow/login\")"
   ]
  },
  {
   "cell_type": "code",
   "execution_count": 56,
   "id": "f507a448",
   "metadata": {},
   "outputs": [],
   "source": [
    "username=driver.find_element(By.XPATH,'//*[@id=\"layers\"]/div/div/div/div/div/div/div[2]/div[2]/div/div/div[2]/div[2]/div/div/div/div[5]/label/div/div[2]/div/input')\n",
    "username.send_keys('sweetcandy6550@gmail.com')\n",
    "time.sleep(4)\n",
    "username.send_keys(Keys.ENTER)"
   ]
  },
  {
   "cell_type": "code",
   "execution_count": 57,
   "id": "97d524fc",
   "metadata": {},
   "outputs": [
    {
     "name": "stdout",
     "output_type": "stream",
     "text": [
      "Enter your password: ········\n"
     ]
    }
   ],
   "source": [
    "#Find the Xpath of password to pass password of account\n",
    "password=driver.find_element(By.XPATH,'//*[@id=\"layers\"]/div/div/div/div/div/div/div[2]/div[2]/div/div/div[2]/div[2]/div[1]/div/div/div[3]/div/label/div/div[2]/div[1]/input')\n",
    "password.send_keys(getpass.getpass('Enter your password: '))\n",
    "time.sleep(2)\n",
    "password.send_keys(Keys.ENTER)"
   ]
  },
  {
   "cell_type": "markdown",
   "id": "15da747e",
   "metadata": {},
   "source": [
    "## Scraping tweets"
   ]
  },
  {
   "cell_type": "code",
   "execution_count": 36,
   "id": "c3526ac5",
   "metadata": {},
   "outputs": [],
   "source": [
    "tweet_content=list()\n",
    "date_time=list()"
   ]
  },
  {
   "cell_type": "code",
   "execution_count": 59,
   "id": "576f0e35",
   "metadata": {},
   "outputs": [],
   "source": [
    "search_input = driver.find_element(By.XPATH, '//*[@id=\"react-root\"]/div/div/div[2]/main/div/div/div/div[2]/div/div[2]/div/div/div/div[1]/div/div/div/form/div[1]/div/div/div/label/div[2]/div/input')\n",
    "\n",
    "# Clear any existing value in the input field (optional)\n",
    "search_input.clear()\n",
    "\n",
    "# Input the desired value\n",
    "search_input.send_keys(\"BTC\")\n",
    "\n",
    "# Submit the form or perform any other action (optional)\n",
    "# For example, you can submit the form by pressing Enter key\n",
    "search_input.submit()\n",
    "\n"
   ]
  },
  {
   "cell_type": "code",
   "execution_count": 35,
   "id": "bc64400c",
   "metadata": {},
   "outputs": [
    {
     "name": "stdout",
     "output_type": "stream",
     "text": [
      "['GM\\n\\n10 $GMRX Per Like \\n30 $GMRX Per Quote\\n25 $GMRX Per Repost\\n20 $GMRX Per Reply\\n2 $GMRX Per View\\n\\n$BLOCK X $GMRX \\n@GetBlockGames\\n  @GaiminIo\\n ', '$BTC will Top at $228k. This idea has 10 months left to play out.\\n\\nDo you agree with this? \\n\\n$MANA $WIF $SEI $FLOKI $PEPE $SHIB #MANA #WIF #SEI #FLOKI #PEPE #SHIB $GMRX \\n@GaiminIo\\n #Bitcoin #DXY #LTC #XRP #BNB', 'Hodlers always win. #BTC', \"We keep pumping that $BLOCK bag!!!!\\n\\nLet's print that money together \\n$GMRX \\n\\n#airdrop #coin #BTC\\u202f\\u202f\\u202f\\u202f #Solana \\n@GaiminIo\\n #Airdrop \\n@GetBlockGames\", \"It's time for you to $BLOCK out all the distractions, because $BTC is only going to new ATHs from here!\\n\\nGet your grind on!\\n@GaiminIo\\n $GMRX #ElonMusk\", 'MetaMask started testing platezhnoy oncheyn-karty Mastercard \\n\\n #memecoins #eth #GEM #FolloMe #CONNECT #1000x #FolloForFolloBack #PENGU #cryptocurrency #ethereum #btc #NFT #SolanaSeason #SolanaMemecoin', 'GM\\n\\n10 $GMRX Per Like \\n30 $GMRX Per Quote\\n25 $GMRX Per Repost\\n20 $GMRX Per Reply\\n2 $GMRX Per View\\n\\n$BLOCK X $GMRX \\n@GetBlockGames\\n  @GaiminIo\\n ', 'Embrace the Dump .. $60k #BTC \\n\\nSeeing a 15% dump would be one of the healthiest things to see in the markets right now\\n\\n- It would show the paper hands \\n- Great buying opportunity\\n- Liquidate a lot of leverage\\n- Give us a strong run back up to ATH\\n- Test strong support levels', 'The BTC company & \\n@origin_trail\\n presented a collaborative initiative utilizing trusted #AI to enhance transparency & traceability in sourcing meatfor the City Restaurant in BTC City Ljubljana. This project aims to promote local & sustainable offer by using AI, while…', \"Oh no, our puffs are melting! \\n\\nDon't worry! The artist has managed to prevent that in time.\\n\\nDo you still like this body?\\n\\nTap  if yes!\\n\\n#VeFam #VPunks #VET #memeNFT #VPU #VNFT #P2EGame #Vechain #VTHO #DThor #BTC #USDT #BNB #Fun #PVPgame #Farm\"]\n"
     ]
    }
   ],
   "source": [
    "print(tweet_content[:10])"
   ]
  },
  {
   "cell_type": "code",
   "execution_count": 60,
   "id": "5da1b96a",
   "metadata": {},
   "outputs": [],
   "source": [
    "tweet_content=[]"
   ]
  },
  {
   "cell_type": "code",
   "execution_count": 61,
   "id": "8880e765",
   "metadata": {},
   "outputs": [
    {
     "name": "stdout",
     "output_type": "stream",
     "text": [
      "Number of tweets collected: 6\n",
      "Number of tweets collected: 11\n",
      "Number of tweets collected: 16\n",
      "Number of tweets collected: 23\n",
      "Number of tweets collected: 29\n",
      "Number of tweets collected: 34\n",
      "Number of tweets collected: 39\n",
      "Number of tweets collected: 46\n",
      "Number of tweets collected: 52\n",
      "Number of tweets collected: 58\n",
      "Number of tweets collected: 63\n",
      "Number of tweets collected: 69\n",
      "Number of tweets collected: 74\n",
      "Number of tweets collected: 79\n",
      "Number of tweets collected: 84\n",
      "Number of tweets collected: 89\n",
      "Number of tweets collected: 95\n",
      "Number of tweets collected: 100\n",
      "Number of tweets collected: 109\n"
     ]
    }
   ],
   "source": [
    "\n",
    "last_position = driver.execute_script(\"return window.pageYOffset;\")\n",
    "\n",
    "while True:\n",
    "    try:\n",
    "        driver.execute_script(\"window.scrollTo(0, document.body.scrollHeight);\")\n",
    "        \n",
    "        tweets = driver.find_elements(By.XPATH, '//div[@data-testid=\"tweetText\"]')\n",
    "        \n",
    "        for tweet in tweets:\n",
    "            content = tweet.text\n",
    "            \n",
    "            try:\n",
    "                time_element = tweet.find_element(By.XPATH, './preceding::time[1]')\n",
    "                datetime_value = time_element.get_attribute('datetime')\n",
    "            except:\n",
    "                datetime_value = None\n",
    "            \n",
    "            tweet_content.append({\"content\": content, \"timestamp\": datetime_value})\n",
    "        \n",
    "        new_position = driver.execute_script(\"return window.pageYOffset;\")\n",
    "        \n",
    "        if new_position == last_position:\n",
    "            driver.refresh()\n",
    "        else:\n",
    "            last_position = new_position\n",
    "        \n",
    "        print(\"Number of tweets collected:\", len(tweet_content))\n",
    "        \n",
    "        if len(tweet_content) > 100:\n",
    "            break\n",
    "        \n",
    "        time.sleep(7)\n",
    "    except StaleElementReferenceException:\n",
    "#         tweets = driver.find_elements(By.XPATH, '//div[@data-testid=\"tweetText\"]')\n",
    "#         for tweet in tweets:\n",
    "#             tweet_content.append(tweet.text)\n",
    "#         driver.execute_script(\"window.scrollTo(0, document.body.scrollHeight);\")\n",
    "        continue\n",
    "        time.sleep(3)"
   ]
  },
  {
   "cell_type": "code",
   "execution_count": 62,
   "id": "ff00ff1c",
   "metadata": {},
   "outputs": [
    {
     "name": "stdout",
     "output_type": "stream",
     "text": [
      "{'content': 'I SAY FARNSWORTH \\n\\n73K NOT TOO SHABBY OLD BOY \\n\\nPLAY THE TRACK!! \\n\\n#BITCOIN', 'timestamp': '2024-03-13T10:34:26.000Z'}\n"
     ]
    }
   ],
   "source": [
    "print(tweet_content[100])"
   ]
  },
  {
   "cell_type": "code",
   "execution_count": null,
   "id": "8c4ab3c2",
   "metadata": {},
   "outputs": [],
   "source": []
  }
 ],
 "metadata": {
  "kernelspec": {
   "display_name": "Python 3 (ipykernel)",
   "language": "python",
   "name": "python3"
  },
  "language_info": {
   "codemirror_mode": {
    "name": "ipython",
    "version": 3
   },
   "file_extension": ".py",
   "mimetype": "text/x-python",
   "name": "python",
   "nbconvert_exporter": "python",
   "pygments_lexer": "ipython3",
   "version": "3.9.12"
  }
 },
 "nbformat": 4,
 "nbformat_minor": 5
}
